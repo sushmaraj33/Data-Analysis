{
 "cells": [
  {
   "cell_type": "code",
   "execution_count": 2,
   "id": "a6e56c5f",
   "metadata": {},
   "outputs": [],
   "source": [
    "import json\n",
    "import datetime\n",
    "f=open(\"record.json\",\"r\")\n",
    "jon=f.read()\n",
    "f.close()\n",
    "f=open('sales.json',\"r\")\n",
    "son=f.read()\n",
    "f.close()\n",
    "sell=json.loads(son)"
   ]
  },
  {
   "cell_type": "markdown",
   "id": "60e2f1dc",
   "metadata": {},
   "source": [
    "# reading inventory"
   ]
  },
  {
   "cell_type": "code",
   "execution_count": 3,
   "id": "9eb88c91",
   "metadata": {},
   "outputs": [
    {
     "name": "stdout",
     "output_type": "stream",
     "text": [
      "************************items present in inventory*********************************\n",
      "{\"1001\": {\"name\": \"pillow\", \"quantity\": 360, \"price\": 60, \"mfg_cntry\": \"India\", \"company\": \"zara\", \"weight_kg\": \"0.2\"}, \"1002\": {\"name\": \"soap\", \"quantity\": 403, \"price\": 10, \"mfg_cntry\": \"India\", \"company\": \"dettol\", \"weight_kg\": \"0.02\"}, \"1003\": {\"name\": \"tooth paste\", \"quantity\": 300, \"price\": 20, \"mfg_cntry\": \"India\", \"company\": \"colgate\", \"weight_kg\": \"0.02\"}, \"1004\": {\"name\": \"pencil\", \"quantity\": 500, \"price\": 10, \"mfg_cntry\": \"India\", \"company\": \"natraj\", \"weight_kg\": \"0.01\"}, \"1005\": {\"name\": \"pen\", \"quantity\": 100, \"price\": 15, \"mfg_cntry\": \"India\", \"company\": \"Fort\", \"weight_kg\": \"0.06\"}, \"1006\": {\"name\": \"Laptop\", \"quantity\": 20, \"price\": 60000, \"mfg_cntry\": \"China\", \"company\": \"msi\", \"weight_kg\": \"1.64\"}, \"1007\": {\"name\": \"Mobile\", \"quantity\": 23, \"price\": 25000, \"mfg_cntry\": \"South Korea\", \"company\": \"Samsung\", \"weight_kg\": \"0.2\"}, \"1008\": {\"name\": \"Keyboard\", \"quantity\": 32, \"price\": 1200, \"mfg_cntry\": \"Texas\", \"company\": \"Dell\", \"weight_kg\": \"0.35\"}, \"1009\": {\"name\": \"maggie\", \"quantity\": 99, \"price\": 5, \"mfg_cntry\": \"India\", \"company\": \"Nestle\", \"weight_kg\": \"0.05\"}, \"1010\": {\"name\": \"Fruti\", \"quantity\": 200, \"price\": 45, \"mfg_cntry\": \"India\", \"company\": \"Parle Agro India Pvt ltd.\", \"weight_kg\": \"0.5\"}, \"1011\": {\"name\": \"Chocolate\", \"quantity\": 300, \"price\": 25, \"mfg_cntry\": \"London\", \"company\": \"Dairymilk\", \"weight_kg\": \"0.05\"}, \"1012\": {\"name\": \"Speaker\", \"quantity\": 10, \"price\": 4000, \"mfg_cntry\": \"China\", \"company\": \"Boat\", \"weight_kg\": \"1\"}, \"1013\": {\"name\": \"trimmer\", \"quantity\": 35, \"price\": 2500, \"mfg_cntry\": \"Dutch\", \"company\": \"Philips\", \"weight_kg\": \"0.4\"}, \"1014\": {\"name\": \"Camera\", \"quantity\": 10, \"price\": 30000, \"mfg_cntry\": \"Japan\", \"company\": \"Nikon\", \"weight_kg\": \"1\"}, \"1015\": {\"name\": \"Powder\", \"quantity\": 67, \"price\": 56, \"mfg_cntry\": \"India\", \"company\": \"cinthol\", \"weight_kg\": \"0.1\"}, \"1016\": {\"name\": \"Facewash\", \"quantity\": 85, \"price\": 95, \"mfg_cntry\": \"New York\", \"company\": \"Ponds\", \"weight_kg\": \"0.1\"}, \"1017\": {\"name\": \"Sunscreen\", \"quantity\": 39, \"price\": 249, \"mfg_cntry\": \"America\", \"company\": \"Neutrogena\", \"weight_kg\": \"0.2\"}, \"1018\": {\"name\": \"Aloe Vera\", \"quantity\": 46, \"price\": 50, \"mfg_cntry\": \"India\", \"company\": \"Patanjali\", \"weight_kg\": \"0.09\"}, \"1019\": {\"name\": \"Mirror\", \"quantity\": 16, \"price\": 99, \"mfg_cntry\": \"India\", \"company\": \"Godrej\", \"weight_kg\": \"0.5\"}, \"1020\": {\"name\": \"biscuit\", \"quantity\": 100, \"price\": 24, \"mfg_cntry\": \"india\", \"company\": \"Parle G\", \"weight_kg\": \"0.05\"}, \"1021\": {\"name\": \"biscuit\", \"quantity\": 200, \"price\": 22, \"mfg_cntry\": \"India\", \"company\": \"Haldiram\", \"weight_kg\": \"0.05\"}, \"1022\": {\"name\": \"Cigarette\", \"quantity\": 880, \"price\": 6, \"mfg_cntry\": \"India\", \"company\": \"Gold Flake\", \"weight_kg\": \"0.01\"}, \"1023\": {\"name\": \"Shampoo\", \"quantity\": 243, \"price\": 1, \"mfg_cntry\": \"India\", \"company\": \"Clinic plus\", \"weight_kg\": \"0.08\"}, \"1024\": {\"name\": \"Earphone\", \"quantity\": 40, \"price\": 450, \"mfg_cntry\": \"China\", \"company\": \"Boat\", \"weight_kg\": \"0.07\"}, \"1025\": {\"name\": \"Handwash\", \"quantity\": 89, \"price\": 47, \"mfg_cntry\": \"India\", \"company\": \"Savlon\", \"weight_kg\": \"0.5\"}, \"1026\": {\"name\": \"wrist watch\", \"quantity\": 97, \"price\": 2547, \"mfg_cntry\": \"India\", \"company\": \"Timex\", \"weight_kg\": \"0.3\"}, \"1027\": {\"name\": \"Water bottle\", \"quantity\": 75, \"price\": 85, \"mfg_cntry\": \"India\", \"company\": \"Milton\", \"weight_kg\": \"0.2\"}, \"1028\": {\"name\": \"Electric cooker\", \"quantity\": 20, \"price\": 800, \"mfg_cntry\": \"India\", \"company\": \"Prestige\", \"weight_kg\": \"0.5\"}, \"1029\": {\"name\": \"Wallet\", \"quantity\": 79, \"price\": 350, \"mfg_cntry\": \"India\", \"company\": \"Sreeleather\", \"weight_kg\": \"0.1\"}, \"1030\": {\"name\": \"Trouser\", \"quantity\": 63, \"price\": 450, \"mfg_cntry\": \"Australia\", \"company\": \"Adidas\", \"weight_kg\": \"0.1\"}, \"1032\": {\"name\": \"T-shirt\", \"quantity\": 175, \"price\": 249, \"mfg_cntry\": \"America\", \"company\": \"Levis\", \"weight_kg\": \"0.15\"}}\n"
     ]
    }
   ],
   "source": [
    "print(\"************************items present in inventory*********************************\")\n",
    "print(jon)"
   ]
  },
  {
   "cell_type": "code",
   "execution_count": 5,
   "id": "468fea08",
   "metadata": {},
   "outputs": [],
   "source": [
    "dic=json.loads(jon)"
   ]
  },
  {
   "cell_type": "markdown",
   "id": "eeb408f7",
   "metadata": {},
   "source": [
    "# purchasing"
   ]
  },
  {
   "cell_type": "code",
   "execution_count": 7,
   "id": "7173d4d8",
   "metadata": {},
   "outputs": [
    {
     "name": "stdout",
     "output_type": "stream",
     "text": [
      "enter product id1022\n",
      "enter quantity2\n",
      "if you want to purchase more item press 0\n",
      "if you do not want to purchase more item press 1 0\n",
      "enter product id1024\n",
      "enter quantity4\n",
      "if you want to purchase more item press 0\n",
      "if you do not want to purchase more item press 1 1\n"
     ]
    }
   ],
   "source": [
    "c=0\n",
    "e=0\n",
    "bill={}\n",
    "while(c<1):\n",
    "    pid=input(\"enter product id\")\n",
    "    if pid not in dic:\n",
    "        print(\"you entered a wrong product id\")\n",
    "        continue\n",
    "    qn=int(input(\"enter quantity\"))\n",
    "    d=0\n",
    "    p=list(sell.keys())\n",
    "    t=1+int(p[-1])\n",
    "    if(dic[pid]['quantity']>=qn):\n",
    "        d+=qn*dic[pid]['price']\n",
    "        e+=d\n",
    "        bill.update({pid:{\"name\":dic[pid]['name'],\n",
    "                         \"quantity\":qn,\n",
    "                         \"price\":dic[pid]['price'],\n",
    "                         \"amount\":d}})\n",
    "    else:\n",
    "        print(f\"sorry! we don't have that much amount.we have only {dic[pid]['quantity']} in stock\")\n",
    "    c=int(input(\"if you want to purchase more item press 0\\nif you do not want to purchase more item press 1 \"))\n",
    "\n",
    "              "
   ]
  },
  {
   "cell_type": "markdown",
   "id": "7dfe070c",
   "metadata": {},
   "source": [
    "# Billing"
   ]
  },
  {
   "cell_type": "code",
   "execution_count": 8,
   "id": "50afd38b",
   "metadata": {},
   "outputs": [
    {
     "name": "stdout",
     "output_type": "stream",
     "text": [
      "*************************************BILL*******************************\n",
      "2023-07-30 00:35:34.357536\n",
      "transaction id: 5\n",
      "  name   \t \tquantity\tprice\tamount\n",
      "Cigarette \t\t 2         \t 6 \tRs. 12\n",
      "Earphone \t\t 4         \t 450 \tRs. 1800\n",
      "-------------------------------------------------------------------------\n",
      "Total payable amount=Rs.1812\n"
     ]
    }
   ],
   "source": [
    "ti=datetime.datetime.now()\n",
    "print(\"*************************************BILL*******************************\")\n",
    "print(ti)\n",
    "bill.update({pid:{\"name\":dic[pid]['name'],\n",
    "                 \"quantity\":qn,\n",
    "                 \"price\":dic[pid]['price'],\n",
    "                 \"amount\":d,\n",
    "                \"time of transction\":str(ti)}})\n",
    "print(f\"transaction id: {t}\")\n",
    "print(\"  name   \\t \\tquantity\\tprice\\tamount\")\n",
    "for item in bill:\n",
    "              print(bill[item]['name'],\"\\t\\t\",bill[item]['quantity'],\"        \\t\",bill[item]['price'],\"\\tRs.\",bill[item]['amount'])\n",
    "print(\"-------------------------------------------------------------------------\")\n",
    "print(f\"Total payable amount=Rs.{e}\")"
   ]
  },
  {
   "cell_type": "markdown",
   "id": "fe5fa97e",
   "metadata": {},
   "source": [
    "# updating inventory"
   ]
  },
  {
   "cell_type": "code",
   "execution_count": 9,
   "id": "ea79730d",
   "metadata": {},
   "outputs": [],
   "source": [
    "j=1\n",
    "for j in bill:\n",
    "    dic[j]['quantity']=dic[j]['quantity']-bill[j]['quantity']\n",
    "jon=json.dumps(dic)\n",
    "f=open(\"record.json\",\"w\")\n",
    "f.write(jon)\n",
    "f.close()"
   ]
  },
  {
   "cell_type": "markdown",
   "id": "b5104651",
   "metadata": {},
   "source": [
    "# sales file"
   ]
  },
  {
   "cell_type": "code",
   "execution_count": 10,
   "id": "5853f22a",
   "metadata": {},
   "outputs": [],
   "source": [
    "sell.update({t:bill})\n",
    "son=json.dumps(sell)\n",
    "f=open('sales.json',\"w\")\n",
    "f.write(son)\n",
    "f.close()"
   ]
  },
  {
   "cell_type": "code",
   "execution_count": null,
   "id": "d06e3a60",
   "metadata": {},
   "outputs": [],
   "source": []
  }
 ],
 "metadata": {
  "kernelspec": {
   "display_name": "Python 3 (ipykernel)",
   "language": "python",
   "name": "python3"
  },
  "language_info": {
   "codemirror_mode": {
    "name": "ipython",
    "version": 3
   },
   "file_extension": ".py",
   "mimetype": "text/x-python",
   "name": "python",
   "nbconvert_exporter": "python",
   "pygments_lexer": "ipython3",
   "version": "3.9.7"
  }
 },
 "nbformat": 4,
 "nbformat_minor": 5
}
