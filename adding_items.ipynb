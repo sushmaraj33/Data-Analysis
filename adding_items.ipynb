{
 "cells": [
  {
   "cell_type": "code",
   "execution_count": 1,
   "id": "18c6d50a",
   "metadata": {},
   "outputs": [
    {
     "name": "stdout",
     "output_type": "stream",
     "text": [
      "******* ITEMS PRESENT IN INVENTORY*******\n",
      "{\"1001\": {\"name\": \"pillow\", \"quantity\": 360, \"price\": 60, \"mfg_cntry\": \"India\", \"company\": \"zara\", \"weight_kg\": \"0.2\"}, \"1002\": {\"name\": \"soap\", \"quantity\": 403, \"price\": 10, \"mfg_cntry\": \"India\", \"company\": \"dettol\", \"weight_kg\": \"0.02\"}, \"1003\": {\"name\": \"tooth paste\", \"quantity\": 300, \"price\": 20, \"mfg_cntry\": \"India\", \"company\": \"colgate\", \"weight_kg\": \"0.02\"}, \"1004\": {\"name\": \"pencil\", \"quantity\": 500, \"price\": 10, \"mfg_cntry\": \"India\", \"company\": \"natraj\", \"weight_kg\": \"0.01\"}, \"1005\": {\"name\": \"pen\", \"quantity\": 100, \"price\": 15, \"mfg_cntry\": \"India\", \"company\": \"Fort\", \"weight_kg\": \"0.06\"}, \"1006\": {\"name\": \"Laptop\", \"quantity\": 20, \"price\": 60000, \"mfg_cntry\": \"China\", \"company\": \"msi\", \"weight_kg\": \"1.64\"}, \"1007\": {\"name\": \"Mobile\", \"quantity\": 23, \"price\": 25000, \"mfg_cntry\": \"South Korea\", \"company\": \"Samsung\", \"weight_kg\": \"0.2\"}, \"1008\": {\"name\": \"Keyboard\", \"quantity\": 32, \"price\": 1200, \"mfg_cntry\": \"Texas\", \"company\": \"Dell\", \"weight_kg\": \"0.35\"}, \"1009\": {\"name\": \"maggie\", \"quantity\": 99, \"price\": 5, \"mfg_cntry\": \"India\", \"company\": \"Nestle\", \"weight_kg\": \"0.05\"}, \"1010\": {\"name\": \"Fruti\", \"quantity\": 200, \"price\": 45, \"mfg_cntry\": \"India\", \"company\": \"Parle Agro India Pvt ltd.\", \"weight_kg\": \"0.5\"}, \"1011\": {\"name\": \"Chocolate\", \"quantity\": 300, \"price\": 25, \"mfg_cntry\": \"London\", \"company\": \"Dairymilk\", \"weight_kg\": \"0.05\"}, \"1012\": {\"name\": \"Speaker\", \"quantity\": 10, \"price\": 4000, \"mfg_cntry\": \"China\", \"company\": \"Boat\", \"weight_kg\": \"1\"}, \"1013\": {\"name\": \"trimmer\", \"quantity\": 35, \"price\": 2500, \"mfg_cntry\": \"Dutch\", \"company\": \"Philips\", \"weight_kg\": \"0.4\"}, \"1014\": {\"name\": \"Camera\", \"quantity\": 10, \"price\": 30000, \"mfg_cntry\": \"Japan\", \"company\": \"Nikon\", \"weight_kg\": \"1\"}, \"1015\": {\"name\": \"Powder\", \"quantity\": 67, \"price\": 56, \"mfg_cntry\": \"India\", \"company\": \"cinthol\", \"weight_kg\": \"0.1\"}, \"1016\": {\"name\": \"Facewash\", \"quantity\": 85, \"price\": 95, \"mfg_cntry\": \"New York\", \"company\": \"Ponds\", \"weight_kg\": \"0.1\"}, \"1017\": {\"name\": \"Sunscreen\", \"quantity\": 39, \"price\": 249, \"mfg_cntry\": \"America\", \"company\": \"Neutrogena\", \"weight_kg\": \"0.2\"}, \"1018\": {\"name\": \"Aloe Vera\", \"quantity\": 46, \"price\": 50, \"mfg_cntry\": \"India\", \"company\": \"Patanjali\", \"weight_kg\": \"0.09\"}, \"1019\": {\"name\": \"Mirror\", \"quantity\": 16, \"price\": 99, \"mfg_cntry\": \"India\", \"company\": \"Godrej\", \"weight_kg\": \"0.5\"}, \"1020\": {\"name\": \"biscuit\", \"quantity\": 100, \"price\": 24, \"mfg_cntry\": \"india\", \"company\": \"Parle G\", \"weight_kg\": \"0.05\"}, \"1021\": {\"name\": \"mixture\", \"quantity\": 267, \"price\": 25, \"mfg_cntry\": \"India\", \"company\": \"Haldiram\", \"weight_kg\": \"0.25\"}, \"1022\": {\"name\": \"Cigarette\", \"quantity\": 880, \"price\": 6, \"mfg_cntry\": \"India\", \"company\": \"Gold Flake\", \"weight_kg\": \"0.01\"}, \"1023\": {\"name\": \"Shampoo\", \"quantity\": 243, \"price\": 1, \"mfg_cntry\": \"India\", \"company\": \"Clinic plus\", \"weight_kg\": \"0.08\"}, \"1024\": {\"name\": \"Earphone\", \"quantity\": 40, \"price\": 450, \"mfg_cntry\": \"China\", \"company\": \"Boat\", \"weight_kg\": \"0.07\"}, \"1025\": {\"name\": \"Handwash\", \"quantity\": 89, \"price\": 47, \"mfg_cntry\": \"India\", \"company\": \"Savlon\", \"weight_kg\": \"0.5\"}, \"1026\": {\"name\": \"wrist watch\", \"quantity\": 97, \"price\": 2547, \"mfg_cntry\": \"India\", \"company\": \"Timex\", \"weight_kg\": \"0.3\"}, \"1027\": {\"name\": \"Water bottle\", \"quantity\": 75, \"price\": 85, \"mfg_cntry\": \"India\", \"company\": \"Milton\", \"weight_kg\": \"0.2\"}, \"1028\": {\"name\": \"Electric cooker\", \"quantity\": 20, \"price\": 800, \"mfg_cntry\": \"India\", \"company\": \"Prestige\", \"weight_kg\": \"0.5\"}, \"1029\": {\"name\": \"Wallet\", \"quantity\": 79, \"price\": 350, \"mfg_cntry\": \"India\", \"company\": \"Sreeleather\", \"weight_kg\": \"0.1\"}, \"1030\": {\"name\": \"Trouser\", \"quantity\": 63, \"price\": 450, \"mfg_cntry\": \"Australia\", \"company\": \"Adidas\", \"weight_kg\": \"0.1\"}, \"1032\": {\"name\": \"T-shirt\", \"quantity\": 175, \"price\": 249, \"mfg_cntry\": \"America\", \"company\": \"Levis\", \"weight_kg\": \"0.15\"}}\n",
      "enter product id1021\n",
      "enter name of productbiscuit\n",
      "enter quantity of product available200\n",
      "enter price of product22\n",
      "enter manufacturing country's nameIndia\n",
      "enter company's nameHaldiram\n",
      "enter weight in kg0.05\n",
      "if you want to add new item press 0\n",
      "if you do not want to add more item press 1 1\n",
      "************updated inventory***********\n",
      "{\"1001\": {\"name\": \"pillow\", \"quantity\": 360, \"price\": 60, \"mfg_cntry\": \"India\", \"company\": \"zara\", \"weight_kg\": \"0.2\"}, \"1002\": {\"name\": \"soap\", \"quantity\": 403, \"price\": 10, \"mfg_cntry\": \"India\", \"company\": \"dettol\", \"weight_kg\": \"0.02\"}, \"1003\": {\"name\": \"tooth paste\", \"quantity\": 300, \"price\": 20, \"mfg_cntry\": \"India\", \"company\": \"colgate\", \"weight_kg\": \"0.02\"}, \"1004\": {\"name\": \"pencil\", \"quantity\": 500, \"price\": 10, \"mfg_cntry\": \"India\", \"company\": \"natraj\", \"weight_kg\": \"0.01\"}, \"1005\": {\"name\": \"pen\", \"quantity\": 100, \"price\": 15, \"mfg_cntry\": \"India\", \"company\": \"Fort\", \"weight_kg\": \"0.06\"}, \"1006\": {\"name\": \"Laptop\", \"quantity\": 20, \"price\": 60000, \"mfg_cntry\": \"China\", \"company\": \"msi\", \"weight_kg\": \"1.64\"}, \"1007\": {\"name\": \"Mobile\", \"quantity\": 23, \"price\": 25000, \"mfg_cntry\": \"South Korea\", \"company\": \"Samsung\", \"weight_kg\": \"0.2\"}, \"1008\": {\"name\": \"Keyboard\", \"quantity\": 32, \"price\": 1200, \"mfg_cntry\": \"Texas\", \"company\": \"Dell\", \"weight_kg\": \"0.35\"}, \"1009\": {\"name\": \"maggie\", \"quantity\": 99, \"price\": 5, \"mfg_cntry\": \"India\", \"company\": \"Nestle\", \"weight_kg\": \"0.05\"}, \"1010\": {\"name\": \"Fruti\", \"quantity\": 200, \"price\": 45, \"mfg_cntry\": \"India\", \"company\": \"Parle Agro India Pvt ltd.\", \"weight_kg\": \"0.5\"}, \"1011\": {\"name\": \"Chocolate\", \"quantity\": 300, \"price\": 25, \"mfg_cntry\": \"London\", \"company\": \"Dairymilk\", \"weight_kg\": \"0.05\"}, \"1012\": {\"name\": \"Speaker\", \"quantity\": 10, \"price\": 4000, \"mfg_cntry\": \"China\", \"company\": \"Boat\", \"weight_kg\": \"1\"}, \"1013\": {\"name\": \"trimmer\", \"quantity\": 35, \"price\": 2500, \"mfg_cntry\": \"Dutch\", \"company\": \"Philips\", \"weight_kg\": \"0.4\"}, \"1014\": {\"name\": \"Camera\", \"quantity\": 10, \"price\": 30000, \"mfg_cntry\": \"Japan\", \"company\": \"Nikon\", \"weight_kg\": \"1\"}, \"1015\": {\"name\": \"Powder\", \"quantity\": 67, \"price\": 56, \"mfg_cntry\": \"India\", \"company\": \"cinthol\", \"weight_kg\": \"0.1\"}, \"1016\": {\"name\": \"Facewash\", \"quantity\": 85, \"price\": 95, \"mfg_cntry\": \"New York\", \"company\": \"Ponds\", \"weight_kg\": \"0.1\"}, \"1017\": {\"name\": \"Sunscreen\", \"quantity\": 39, \"price\": 249, \"mfg_cntry\": \"America\", \"company\": \"Neutrogena\", \"weight_kg\": \"0.2\"}, \"1018\": {\"name\": \"Aloe Vera\", \"quantity\": 46, \"price\": 50, \"mfg_cntry\": \"India\", \"company\": \"Patanjali\", \"weight_kg\": \"0.09\"}, \"1019\": {\"name\": \"Mirror\", \"quantity\": 16, \"price\": 99, \"mfg_cntry\": \"India\", \"company\": \"Godrej\", \"weight_kg\": \"0.5\"}, \"1020\": {\"name\": \"biscuit\", \"quantity\": 100, \"price\": 24, \"mfg_cntry\": \"india\", \"company\": \"Parle G\", \"weight_kg\": \"0.05\"}, \"1021\": {\"name\": \"biscuit\", \"quantity\": 200, \"price\": 22, \"mfg_cntry\": \"India\", \"company\": \"Haldiram\", \"weight_kg\": \"0.05\"}, \"1022\": {\"name\": \"Cigarette\", \"quantity\": 880, \"price\": 6, \"mfg_cntry\": \"India\", \"company\": \"Gold Flake\", \"weight_kg\": \"0.01\"}, \"1023\": {\"name\": \"Shampoo\", \"quantity\": 243, \"price\": 1, \"mfg_cntry\": \"India\", \"company\": \"Clinic plus\", \"weight_kg\": \"0.08\"}, \"1024\": {\"name\": \"Earphone\", \"quantity\": 40, \"price\": 450, \"mfg_cntry\": \"China\", \"company\": \"Boat\", \"weight_kg\": \"0.07\"}, \"1025\": {\"name\": \"Handwash\", \"quantity\": 89, \"price\": 47, \"mfg_cntry\": \"India\", \"company\": \"Savlon\", \"weight_kg\": \"0.5\"}, \"1026\": {\"name\": \"wrist watch\", \"quantity\": 97, \"price\": 2547, \"mfg_cntry\": \"India\", \"company\": \"Timex\", \"weight_kg\": \"0.3\"}, \"1027\": {\"name\": \"Water bottle\", \"quantity\": 75, \"price\": 85, \"mfg_cntry\": \"India\", \"company\": \"Milton\", \"weight_kg\": \"0.2\"}, \"1028\": {\"name\": \"Electric cooker\", \"quantity\": 20, \"price\": 800, \"mfg_cntry\": \"India\", \"company\": \"Prestige\", \"weight_kg\": \"0.5\"}, \"1029\": {\"name\": \"Wallet\", \"quantity\": 79, \"price\": 350, \"mfg_cntry\": \"India\", \"company\": \"Sreeleather\", \"weight_kg\": \"0.1\"}, \"1030\": {\"name\": \"Trouser\", \"quantity\": 63, \"price\": 450, \"mfg_cntry\": \"Australia\", \"company\": \"Adidas\", \"weight_kg\": \"0.1\"}, \"1032\": {\"name\": \"T-shirt\", \"quantity\": 175, \"price\": 249, \"mfg_cntry\": \"America\", \"company\": \"Levis\", \"weight_kg\": \"0.15\"}}\n"
     ]
    }
   ],
   "source": [
    "import json\n",
    "f=open(\"record.json\",\"r\")\n",
    "jon=f.read()\n",
    "f.close()\n",
    "print(\"******* ITEMS PRESENT IN INVENTORY*******\")\n",
    "print(jon)\n",
    "\n",
    "dic=json.loads(jon)\n",
    "c=0\n",
    "while(c<1):\n",
    "    pid=input(\"enter product id\")\n",
    "    name=input(\"enter name of product\")\n",
    "    quantity=int(input(\"enter quantity of product available\"))\n",
    "    price=int(input(\"enter price of product\"))\n",
    "    mfgc=input(\"enter manufacturing country's name\")\n",
    "    cmp=input(\"enter company's name\")\n",
    "    wei=input(\"enter weight in kg\")\n",
    "\n",
    "    dic.update({pid: {'name': name,\n",
    "      'quantity':quantity,\n",
    "        'price': price,\n",
    "      'mfg_cntry': mfgc,\n",
    "      'company': cmp,\n",
    "        'weight_kg': wei}})\n",
    "    c=int(input(\"if you want to add new item press 0\\nif you do not want to add more item press 1 \"))\n",
    "print(\"************updated inventory***********\")\n",
    "jon=json.dumps(dic)\n",
    "print(jon)\n",
    "f=open(\"record.json\",\"w\")\n",
    "f.write(jon)\n",
    "f.close()"
   ]
  },
  {
   "cell_type": "code",
   "execution_count": null,
   "id": "5a1e0b6c",
   "metadata": {},
   "outputs": [],
   "source": []
  }
 ],
 "metadata": {
  "kernelspec": {
   "display_name": "Python 3 (ipykernel)",
   "language": "python",
   "name": "python3"
  },
  "language_info": {
   "codemirror_mode": {
    "name": "ipython",
    "version": 3
   },
   "file_extension": ".py",
   "mimetype": "text/x-python",
   "name": "python",
   "nbconvert_exporter": "python",
   "pygments_lexer": "ipython3",
   "version": "3.9.7"
  }
 },
 "nbformat": 4,
 "nbformat_minor": 5
}
